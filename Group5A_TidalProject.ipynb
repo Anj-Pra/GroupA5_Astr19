{
 "cells": [
  {
   "cell_type": "markdown",
   "id": "c0a28ff7",
   "metadata": {},
   "source": [
    "Astronomy 19\n",
    "Tidal Report - Group 5A"
   ]
  },
  {
   "cell_type": "code",
   "execution_count": 1,
   "id": "1b1a53e1",
   "metadata": {},
   "outputs": [],
   "source": [
    "import numpy as np\n",
    "import matplotlib.pyplot as plt\n",
    "from pathlib import Path"
   ]
  },
  {
   "cell_type": "code",
   "execution_count": 2,
   "id": "c8504d59",
   "metadata": {},
   "outputs": [
    {
     "data": {
      "text/plain": [
       "'\\nprint(\"days = \" + str(arr_day))\\nprint(\"\\ntime = \" + str(arr_time))\\nprint(\"\\ntide = \" + str(arr_tide))\\n'"
      ]
     },
     "execution_count": 2,
     "metadata": {},
     "output_type": "execute_result"
    }
   ],
   "source": [
    "# Read data from file\n",
    "\n",
    "f = open('ASTR19_S22_group_project_data.txt', \"r\") # Open file to be read\n",
    "f.readline() # Read past the first three lines bc they contain comments\n",
    "f.readline()\n",
    "f.readline()\n",
    "\n",
    "arr_day=[]\n",
    "arr_time=[]\n",
    "arr_tide=[]\n",
    "for i in f:\n",
    "    split_up=i.split()\n",
    "    arr_day.append(int(split_up[0]))\n",
    "    arr_time.append(split_up[1])\n",
    "    arr_tide.append(float(split_up[2]))\n",
    "\n",
    "arr_mins = []\n",
    "for s in arr_time:\n",
    "    hr_min = s.split(\":\")\n",
    "    arr_mins.append((int(hr_min[0]) * 60) + int(hr_min[1]))\n",
    "\"\"\"\n",
    "print(\"days = \" + str(arr_day))\n",
    "print(\"\\ntime = \" + str(arr_time))\n",
    "print(\"\\ntide = \" + str(arr_tide))\n",
    "\"\"\""
   ]
  },
  {
   "cell_type": "code",
   "execution_count": 3,
   "id": "31678b2a",
   "metadata": {},
   "outputs": [
    {
     "data": {
      "image/png": "[encoded data removed]",
      "text/plain": [
       "<Figure size 432x288 with 1 Axes>"
      ]
     },
     "metadata": {
      "needs_background": "light"
     },
     "output_type": "display_data"
    }
   ],
   "source": [
    "# 1. Define an oscillatory function.\n",
    "for i in range(len(arr_mins)):\n",
    "    plt.plot(arr_mins[i], arr_tide[i], \"o\")\n",
    "x = np.arange(0, 1500, 0.1)\n",
    "y = 4 * np.sin(0.005 * x - 0.5) + 2.75\n",
    "plt.plot(x, y)\n",
    "plt.show()"
   ]
  },
  {
   "cell_type": "code",
   "execution_count": 4,
   "id": "b63e9b98",
   "metadata": {},
   "outputs": [
    {
     "ename": "ValueError",
     "evalue": "Unable to determine number of fit parameters.",
     "output_type": "error",
     "traceback": [
      "\u001b[0;31m---------------------------------------------------------------------------\u001b[0m",
      "\u001b[0;31mValueError\u001b[0m                                Traceback (most recent call last)",
      "Input \u001b[0;32mIn [4]\u001b[0m, in \u001b[0;36m<cell line: 18>\u001b[0;34m()\u001b[0m\n\u001b[1;32m     15\u001b[0m \u001b[38;5;28;01mdef\u001b[39;00m \u001b[38;5;21mf\u001b[39m(time): \u001b[38;5;66;03m# time is type int\u001b[39;00m\n\u001b[1;32m     16\u001b[0m     \u001b[38;5;28;01mreturn\u001b[39;00m \u001b[38;5;241m4\u001b[39m \u001b[38;5;241m*\u001b[39m np\u001b[38;5;241m.\u001b[39msin(\u001b[38;5;241m0.005\u001b[39m \u001b[38;5;241m*\u001b[39m time \u001b[38;5;241m-\u001b[39m \u001b[38;5;241m0.5\u001b[39m) \u001b[38;5;241m+\u001b[39m \u001b[38;5;241m2.75\u001b[39m\n\u001b[0;32m---> 18\u001b[0m \u001b[43moptimize\u001b[49m\u001b[38;5;241;43m.\u001b[39;49m\u001b[43mcurve_fit\u001b[49m\u001b[43m(\u001b[49m\u001b[43mf\u001b[49m\u001b[43m,\u001b[49m\u001b[43m \u001b[49m\u001b[43marr_mins\u001b[49m\u001b[43m,\u001b[49m\u001b[43m \u001b[49m\u001b[43marr_tide\u001b[49m\u001b[43m)\u001b[49m\n",
      "File \u001b[0;32m~/.local/lib/python3.10/site-packages/scipy/optimize/_minpack_py.py:710\u001b[0m, in \u001b[0;36mcurve_fit\u001b[0;34m(f, xdata, ydata, p0, sigma, absolute_sigma, check_finite, bounds, method, jac, **kwargs)\u001b[0m\n\u001b[1;32m    708\u001b[0m     args \u001b[38;5;241m=\u001b[39m sig\u001b[38;5;241m.\u001b[39margs\n\u001b[1;32m    709\u001b[0m     \u001b[38;5;28;01mif\u001b[39;00m \u001b[38;5;28mlen\u001b[39m(args) \u001b[38;5;241m<\u001b[39m \u001b[38;5;241m2\u001b[39m:\n\u001b[0;32m--> 710\u001b[0m         \u001b[38;5;28;01mraise\u001b[39;00m \u001b[38;5;167;01mValueError\u001b[39;00m(\u001b[38;5;124m\"\u001b[39m\u001b[38;5;124mUnable to determine number of fit parameters.\u001b[39m\u001b[38;5;124m\"\u001b[39m)\n\u001b[1;32m    711\u001b[0m     n \u001b[38;5;241m=\u001b[39m \u001b[38;5;28mlen\u001b[39m(args) \u001b[38;5;241m-\u001b[39m \u001b[38;5;241m1\u001b[39m\n\u001b[1;32m    712\u001b[0m \u001b[38;5;28;01melse\u001b[39;00m:\n",
      "\u001b[0;31mValueError\u001b[0m: Unable to determine number of fit parameters."
     ]
    }
   ],
   "source": [
    "# 2. Fit the function to the data.\n",
    "\n",
    "\"\"\"\n",
    "# Uncomment this if you've never installed scipy before\n",
    "import sys\n",
    "!{sys.executable} -m pip install scipy\n",
    "\"\"\"\n",
    "\n",
    "from scipy import optimize\n",
    "import math\n",
    "\n",
    "# arr_mins contains the independent variable (x-values)\n",
    "# arr_tide contains the dependent variable (y-values)\n",
    "\n",
    "def f(time): # time is type int\n",
    "    return 4 * np.sin(0.005 * time - 0.5) + 2.75\n",
    "\n",
    "optimize.curve_fit(f, arr_mins, arr_tide)"
   ]
  },
  {
   "cell_type": "code",
   "execution_count": null,
   "id": "5a26d153",
   "metadata": {},
   "outputs": [],
   "source": [
    "# 3. Subtract off the best fit.\n",
    "..."
   ]
  },
  {
   "cell_type": "code",
   "execution_count": null,
   "id": "ec1c3445",
   "metadata": {},
   "outputs": [],
   "source": [
    "# 4. Deviation caused by tsunami.\n",
    "..."
   ]
  }
 ],
 "metadata": {
  "kernelspec": {
   "display_name": "Python 3 (ipykernel)",
   "language": "python",
   "name": "python3"
  },
  "language_info": {
   "codemirror_mode": {
    "name": "ipython",
    "version": 3
   },
   "file_extension": ".py",
   "mimetype": "text/x-python",
   "name": "python",
   "nbconvert_exporter": "python",
   "pygments_lexer": "ipython3",
   "version": "3.10.4"
  }
 },
 "nbformat": 4,
 "nbformat_minor": 5
}
